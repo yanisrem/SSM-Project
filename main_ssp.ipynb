{
 "cells": [
  {
   "cell_type": "code",
   "execution_count": null,
   "metadata": {},
   "outputs": [],
   "source": [
    "# ! pip install tensorflow\n",
    "# ! pip install matplotlib"
   ]
  },
  {
   "cell_type": "code",
   "execution_count": null,
   "metadata": {
    "id": "MfO30nSoUlsg"
   },
   "outputs": [
    {
     "name": "stdout",
     "output_type": "stream",
     "text": [
      "WARNING:tensorflow:From c:\\Users\\yanis\\anaconda3\\Lib\\site-packages\\keras\\src\\losses.py:2976: The name tf.losses.sparse_softmax_cross_entropy is deprecated. Please use tf.compat.v1.losses.sparse_softmax_cross_entropy instead.\n",
      "\n"
     ]
    }
   ],
   "source": [
    "import numpy as np\n",
    "import torch\n",
    "import torch.nn as nn\n",
    "from torch.utils.data import DataLoader\n",
    "import torch.optim as optim\n",
    "import torch.nn.functional as F\n",
    "from tensorflow.keras.datasets import imdb\n",
    "import matplotlib.pyplot as plt\n",
    "from tensorflow.keras.preprocessing import sequence\n",
    "import time\n",
    "import random"
   ]
  },
  {
   "cell_type": "markdown",
   "metadata": {
    "id": "eNTWEQ_MUlsi"
   },
   "source": [
    "# Import and pre-processing"
   ]
  },
  {
   "cell_type": "code",
   "execution_count": null,
   "metadata": {
    "colab": {
     "base_uri": "https://localhost:8080/"
    },
    "id": "37zg2hZNUlsi",
    "outputId": "7bf71b0f-cd6b-413c-a07d-d917099f4b66"
   },
   "outputs": [
    {
     "name": "stdout",
     "output_type": "stream",
     "text": [
      "<START> although i had seen <UNK> in a theater way back in <UNK> i couldn't remember anything of the plot except for vague images of kurt thomas running and fighting against a backdrop of stone walls and disappointment regarding the ending br br after reading some of the other reviews i picked up a copy of the newly released dvd to once again enter the world of <UNK> br br it turns out this is one of those films produced during the <UNK> that would go directly to video today the film stars <UNK> <UNK> kurt thomas as jonathan <UNK> <UNK> out of the blue to <UNK> the nation of <UNK> to enter and hopefully win the game a <UNK> <UNK> <UNK> by the khan who <UNK> his people by yelling what sounds like <UNK> power the goal of the mission involves the star wars defense system jonathan is trained in the martial arts by princess <UNK> who never speaks or leaves the house once trained tries to blend in with the <UNK> by wearing a bright red <UNK> with <UNK> of blue and white needless to say <UNK> finds himself running and fighting for his life along the stone streets of <UNK> on his way to a date with destiny and the game br br star kurt thomas was ill served by director robert <UNK> who it looks like was never on the set the so called script is just this side of incompetent see other reviews for the many <UNK> throughout the town of <UNK> has a few good moments but is ultimately ruined by bad editing the ending <UNK> still there's the <UNK> of a good action adventure here a hong kong version with more <UNK> action and faster pace might even be pretty good\n",
      "X shape: (200, 170)\n",
      "len(X[0]): 170\n",
      "len(X[1]): 170\n",
      "X[0]: [   1   14   22   16   43  530  973 1622 1385   65  458 4468   66 3941\n",
      "    4  173   36  256    5   25  100   43  838  112   50  670    2    9\n",
      "   35  480  284    5  150    4  172  112  167    2  336  385   39    4\n",
      "  172 4536 1111   17  546   38   13  447    4  192   50   16    6  147\n",
      " 2025   19   14   22    4 1920 4613  469    4   22   71   87   12   16\n",
      "   43  530   38   76   15   13 1247    4   22   17  515   17   12   16\n",
      "  626   18    2    5   62  386   12    8  316    8  106    5    4 2223\n",
      "    2   16  480   66 3785   33    4  130   12   16   38  619    5   25\n",
      "  124   51   36  135   48   25 1415   33    6   22   12  215   28   77\n",
      "   52    5   14  407   16   82    2    8    4  107  117    2   15  256\n",
      "    4    2    7 3766    5  723   36   71   43  530  476   26  400  317\n",
      "   46    7    4    2 1029   13  104   88    4  381   15  297   98   32\n",
      " 2071   56]\n"
     ]
    }
   ],
   "source": [
    "NUM_WORDS = 5000\n",
    "max_review_length = 100\n",
    "INDEX_FROM = 3\n",
    "\n",
    "# --- Import the IMDB data and only consider the ``top_words``` most used words\n",
    "np.load.__defaults__=(None, True, True, 'ASCII')\n",
    "(X, y), (X_test, y_test) = imdb.load_data(num_words=NUM_WORDS, index_from=INDEX_FROM)\n",
    "np.load.__defaults__=(None, False, True, 'ASCII')\n",
    "\n",
    "word_to_id = imdb.get_word_index()\n",
    "word_to_id = {k:(v+INDEX_FROM) for k,v in word_to_id.items()}\n",
    "word_to_id[\"<PAD>\"] = 0\n",
    "word_to_id[\"<START>\"] = 1\n",
    "word_to_id[\"<UNK>\"] = 2\n",
    "\n",
    "id_to_word = {value:key for key,value in word_to_id.items()}\n",
    "print(' '.join(id_to_word[id] for id in X[1000] ))\n",
    "\n",
    "# --- filter sequences with at least 170 words\n",
    "TOTAL_LENGTH = 170\n",
    "X = [lst for lst in X if len(lst) >= TOTAL_LENGTH]\n",
    "# --- truncate input sequences\n",
    "X = sequence.pad_sequences(X, maxlen=TOTAL_LENGTH, truncating='post')\n",
    "# --- Keep only 200 sequences\n",
    "N = 200\n",
    "X = X[:N]\n",
    "\n",
    "print(\"X shape:\", X.shape)\n",
    "print(\"len(X[0]):\", len(X[0]))\n",
    "print(\"len(X[1]):\", len(X[1]))\n",
    "print(\"X[0]:\", X[0])"
   ]
  },
  {
   "cell_type": "code",
   "execution_count": null,
   "metadata": {},
   "outputs": [
    {
     "data": {
      "image/png": "[encoded data removed]",
      "text/plain": [
       "<Figure size 640x480 with 1 Axes>"
      ]
     },
     "metadata": {},
     "output_type": "display_data"
    }
   ],
   "source": [
    "unique_elements, counts = np.unique(X, return_counts=True)\n",
    "occurrences_dict = dict(zip(unique_elements, counts))\n",
    "\n",
    "keys = list(occurrences_dict.keys())[:500]\n",
    "values = list(occurrences_dict.values())[:500]\n",
    "\n",
    "plt.bar(keys, values)\n",
    "plt.show()"
   ]
  },
  {
   "cell_type": "code",
   "execution_count": null,
   "metadata": {
    "colab": {
     "base_uri": "https://localhost:8080/"
    },
    "id": "D4Y9Tr9dIClo",
    "outputId": "4450cdaf-6cfe-459a-f97b-133e96ece774"
   },
   "outputs": [
    {
     "name": "stdout",
     "output_type": "stream",
     "text": [
      "X_train shape: (200, 100)\n",
      "X_test shape: (200, 70)\n"
     ]
    }
   ],
   "source": [
    "# Train - test split\n",
    "LENGTH_TRAIN = 100\n",
    "X_train = X[:, :LENGTH_TRAIN]\n",
    "X_test = X[:, LENGTH_TRAIN:]\n",
    "\n",
    "print(\"X_train shape:\", X_train.shape)\n",
    "print(\"X_test shape:\", X_test.shape)"
   ]
  },
  {
   "cell_type": "markdown",
   "metadata": {
    "id": "ty6AqZwAUlsj"
   },
   "source": [
    "# LSTM"
   ]
  },
  {
   "cell_type": "code",
   "execution_count": null,
   "metadata": {
    "id": "23wnOVFHUlsj"
   },
   "outputs": [],
   "source": [
    "class Dataset(torch.utils.data.Dataset):\n",
    "    def __init__(self, topics, model_length):\n",
    "        self.topics=topics\n",
    "        self.model_length=model_length\n",
    "\n",
    "    def __len__(self):\n",
    "        return len(self.topics)-self.model_length\n",
    "\n",
    "    def __getitem__(self, index):\n",
    "        input_sequence=torch.tensor(self.topics[index:index+self.model_length, :])\n",
    "        target_sequence=torch.tensor(self.topics[index+1:index+self.model_length+1, :])\n",
    "\n",
    "        return input_sequence, target_sequence"
   ]
  },
  {
   "cell_type": "code",
   "execution_count": null,
   "metadata": {
    "id": "Y7qp8RODUlsj"
   },
   "outputs": [],
   "source": [
    "class LSTM(nn.Module):\n",
    "    def __init__(self, input_size, hidden_size, output_size, model_length, batch_size):\n",
    "        super(LSTM, self).__init__()\n",
    "        self.input_size = input_size #input size (NUM_TOPICS)\n",
    "        self.hidden_size = hidden_size #number of hidden neurons\n",
    "        self.output_size = output_size #output size (NUM_TOPICS)\n",
    "        self.model_length = model_length\n",
    "        self.batch_size = batch_size\n",
    "        self.lstm = nn.LSTM(self.input_size, self.hidden_size, batch_first=True)\n",
    "        self.dropout = nn.Dropout(0.2)\n",
    "        self.fc = nn.Linear(self.hidden_size, self.output_size)\n",
    "\n",
    "    def forward(self, x, prev_state):\n",
    "        output, state = self.lstm(x, prev_state)\n",
    "        output = self.dropout(output)\n",
    "        output=self.fc(output)\n",
    "        return output, state\n",
    "\n",
    "    def init_state(self):\n",
    "        return (torch.zeros(1, self.batch_size, self.hidden_size), #(NUM_LAYERS, BATCH SIZE, NUM_NEURONES)\n",
    "                torch.zeros(1, self.batch_size, self.hidden_size))\n",
    "\n",
    "    def train_model(self, dataset, optimizer, criterion):\n",
    "        self.train()\n",
    "        state_h, state_c = self.init_state()\n",
    "        lst_output=[]\n",
    "        lst_y_true=[]\n",
    "        optimizer.zero_grad()\n",
    "\n",
    "        for t, (x, y) in enumerate(dataset):\n",
    "            output , (state_h, state_c) = self.forward(x, (state_h, state_c))\n",
    "            state_h = state_h.detach()\n",
    "            state_c = state_c.detach()\n",
    "            lst_output.append(output[:, -1, :])\n",
    "            lst_y_true.append(y[:, -1, :])\n",
    "        torch_output = torch.stack(lst_output).view(-1, self.output_size)  \n",
    "        torch_y_true = torch.stack(lst_y_true).view(-1, self.output_size)\n",
    "        loss = criterion(torch_output, torch_y_true)\n",
    "        loss.backward()\n",
    "        optimizer.step()           \n",
    "\n",
    "    def predict_next_probability(self, input_sequence):\n",
    "        self.eval()\n",
    "        state_h, state_c = self.init_state()\n",
    "        with torch.no_grad():\n",
    "            for t in range(len(input_sequence)):\n",
    "                input_t = input_sequence[t].unsqueeze(0).unsqueeze(0)\n",
    "                _, (state_h, state_c) = self(input_t, (state_h, state_c))\n",
    "\n",
    "        input_t = input_sequence[-1].unsqueeze(0).unsqueeze(0)\n",
    "        output, _ = self.forward(input_t, (state_h, state_c))\n",
    "        probabilities = F.softmax(output[:, -1, :], dim=1).detach().squeeze(0)\n",
    "        return probabilities\n",
    "\n",
    "    def sample_next_z(self, input_sequence):\n",
    "        self.eval()\n",
    "        proba = self.predict_next_probability(input_sequence)\n",
    "        return torch.multinomial(proba, 1).item()+1"
   ]
  },
  {
   "cell_type": "markdown",
   "metadata": {
    "id": "kqrifMS5Ulsk"
   },
   "source": [
    "## SSM"
   ]
  },
  {
   "cell_type": "code",
   "execution_count": null,
   "metadata": {
    "id": "DfZO1YK1Ulsk"
   },
   "outputs": [],
   "source": [
    "class SSMPytorch:\n",
    "    def __init__(self, num_words, num_topics):\n",
    "        self.num_words = num_words\n",
    "        self.num_topics = num_topics\n",
    "        self.phi = torch.randn(num_words, num_topics) * 0.01\n",
    "        self.phi = torch.exp(self.phi - torch.max(self.phi, dim=0, keepdim=True).values)\n",
    "        self.phi = self.phi / torch.sum(self.phi, dim=0, keepdim=True)\n",
    "\n",
    "    def compute_MLE_SSM(self, ech_x, ech_z):\n",
    "        n_samples = ech_x.shape[0]\n",
    "        proba_matrix = torch.zeros((self.num_words, self.num_topics), dtype=torch.float)\n",
    "        for i in range(n_samples):\n",
    "            index_x = ech_x[i] - 1\n",
    "            index_z = ech_z[i] - 1\n",
    "            proba_matrix[index_x, index_z] += 1.0\n",
    "        proba_matrix = proba_matrix + 1e-6\n",
    "        row_sums = proba_matrix.sum(dim=0, keepdim=True)\n",
    "        proba_matrix_normalized = proba_matrix / row_sums\n",
    "        self.phi = proba_matrix_normalized\n",
    "\n",
    "    def predict_proba(self, z_t):\n",
    "        return self.phi[:, int(z_t) - 1]\n",
    "\n",
    "    def sample_xt(self, z_t):\n",
    "        proba = self.predict_proba(z_t)\n",
    "        sampled_xt = torch.multinomial(proba, 1).item() + 1\n",
    "        return sampled_xt\n"
   ]
  },
  {
   "cell_type": "markdown",
   "metadata": {
    "id": "33fdzrVuUlsl"
   },
   "source": [
    "## Particle Gibbs"
   ]
  },
  {
   "cell_type": "code",
   "execution_count": null,
   "metadata": {
    "id": "RYDvZJPNUlsl"
   },
   "outputs": [],
   "source": [
    "def compute_alpha_unnormalized(z_1_t_minus_1, num_topics, num_voc, lstm, ssm):\n",
    "    z_1_t_minus_1 = z_1_t_minus_1 - 1\n",
    "    z_one_hot = F.one_hot(z_1_t_minus_1, num_classes=num_topics).float()\n",
    "    softmax = lstm.predict_next_probability(z_one_hot).detach()\n",
    "    phi = ssm.phi\n",
    "    alpha = torch.tensor([torch.matmul(softmax, phi[j, :]) for j in range(num_voc)])\n",
    "    return alpha\n",
    "\n",
    "def compute_alpha_normalized(z_1_t_minus_1, num_topics, num_voc, lstm, ssm):\n",
    "    num = compute_alpha_unnormalized(z_1_t_minus_1, num_topics, num_voc, lstm, ssm)\n",
    "    denom = torch.sum(num) + 1e-6\n",
    "    return num / denom\n",
    "\n",
    "def compute_gamma_unnormalized(xt, z_1_t_minus_1, num_topics, lstm, ssm):\n",
    "    z_1_t_minus_1 = z_1_t_minus_1 - 1\n",
    "    z_one_hot = F.one_hot(z_1_t_minus_1, num_classes=num_topics).float()\n",
    "    softmax = lstm.predict_next_probability(z_one_hot).detach()\n",
    "    phi = ssm.phi\n",
    "    phi_xt = phi[xt - 1, :]\n",
    "    return torch.mul(softmax, phi_xt)\n",
    "\n",
    "def compute_gamma_normalized(xt, z_1_t_minus_1, num_topics, lstm, ssm):\n",
    "    num = compute_gamma_unnormalized(xt, z_1_t_minus_1, num_topics, lstm, ssm)\n",
    "    denom = torch.sum(num) + 1e-6\n",
    "    return num / denom"
   ]
  },
  {
   "cell_type": "code",
   "execution_count": null,
   "metadata": {
    "id": "OldruShfhzBV"
   },
   "outputs": [],
   "source": [
    "def particle_gibbs(x, previous_z_1_T_star, P, num_topics, num_words, T, lstm_model, ssm_model):\n",
    "    # Init\n",
    "    Z_matrix = torch.zeros((P, T + 1), dtype=torch.long)\n",
    "    alpha_matrix = torch.zeros((P, T + 1), dtype=torch.float)\n",
    "    ancestor_matrix = torch.ones((P, T + 1), dtype=torch.long)\n",
    "\n",
    "    # t=0\n",
    "    Z_matrix[:, 0] = torch.randint(1, num_topics + 1, (P,))\n",
    "    alpha_matrix[:, 0] = torch.full((P,), 1 / P)\n",
    "\n",
    "    # t=1\n",
    "    t = 1\n",
    "    ancestor_matrix[0, t - 1] = torch.tensor(1)\n",
    "    Z_matrix[0, 1:t + 1] = previous_z_1_T_star[:t]\n",
    "\n",
    "    for p in range(2, P + 1):\n",
    "        alpha_t_minus_1_p = alpha_matrix[:, t - 1]\n",
    "        a_t_minus_1_p = torch.multinomial(alpha_t_minus_1_p, 1).item()+1\n",
    "        ancestor_matrix[p - 1, t - 1] = a_t_minus_1_p\n",
    "        z_1_t_minus_1_a_t_minus_1_p = Z_matrix[int(a_t_minus_1_p) - 1, 0]\n",
    "        z_1_t_minus_1_a_t_minus_1_p = torch.tensor([z_1_t_minus_1_a_t_minus_1_p])\n",
    "        gamma_t_p = compute_gamma_normalized(xt=x[t - 1],\n",
    "                                             z_1_t_minus_1=z_1_t_minus_1_a_t_minus_1_p,\n",
    "                                             num_topics=num_topics,\n",
    "                                             lstm=lstm_model,\n",
    "                                             ssm=ssm_model)\n",
    "        Z_matrix[p - 1, 1:t + 1] = torch.multinomial(gamma_t_p, 1).item()+1\n",
    "\n",
    "    for p in range(1, P + 1):\n",
    "        a_t_minus_1_p = ancestor_matrix[p - 1, t - 1]\n",
    "        z_1_t_minus_1_a_t_minus_1_p = Z_matrix[int(a_t_minus_1_p) - 1, 0]\n",
    "        z_1_t_minus_1_a_t_minus_1_p = torch.tensor([z_1_t_minus_1_a_t_minus_1_p])\n",
    "        alpha_t_p = compute_alpha_normalized(z_1_t_minus_1=z_1_t_minus_1_a_t_minus_1_p,\n",
    "                                             num_topics=num_topics,\n",
    "                                             num_voc=num_words,\n",
    "                                             lstm=lstm_model,\n",
    "                                             ssm=ssm_model)\n",
    "        alpha_t_p = alpha_t_p[x[t - 1] - 1]\n",
    "        alpha_matrix[p - 1, t] = alpha_t_p\n",
    "\n",
    "    alpha_matrix[:, t] = alpha_matrix[:, t] / (alpha_matrix[:, t].sum() + 1e-6)\n",
    "\n",
    "    for t in range(2, T + 1):\n",
    "        a_t_minus_1 = torch.tensor(1)\n",
    "        z_1_t = previous_z_1_T_star[:t]\n",
    "        ancestor_matrix[0, t - 1] = a_t_minus_1\n",
    "        Z_matrix[0, 1:t + 1] = z_1_t\n",
    "\n",
    "        for p in range(2, P + 1):\n",
    "            alpha_t_minus_1_p = alpha_matrix[:, t - 1]\n",
    "            a_t_minus_1_p = torch.multinomial(alpha_t_minus_1_p, 1).item()+1\n",
    "            ancestor_matrix[p - 1, t - 1] = a_t_minus_1_p\n",
    "            z_1_t_minus_1_a_t_minus_1_p = Z_matrix[int(a_t_minus_1_p) - 1, 1:t]\n",
    "            gamma_t_p = compute_gamma_normalized(xt=x[t - 1],\n",
    "                                                 z_1_t_minus_1=z_1_t_minus_1_a_t_minus_1_p,\n",
    "                                                 num_topics=num_topics,\n",
    "                                                 lstm=lstm_model,\n",
    "                                                 ssm=ssm_model)\n",
    "\n",
    "            z_t_p = torch.multinomial(gamma_t_p, 1).item()+1\n",
    "            z_1_t_p = torch.cat([z_1_t_minus_1_a_t_minus_1_p, torch.tensor([z_t_p])])\n",
    "            Z_matrix[p - 1, 1:t + 1] = z_1_t_p\n",
    "\n",
    "        for p in range(1, P + 1):\n",
    "            a_t_minus_1_p = ancestor_matrix[p - 1, t - 1]\n",
    "            z_1_t_minus_1_a_t_minus_1_p = Z_matrix[int(a_t_minus_1_p) - 1, 1:(t - 1) + 1]\n",
    "            alpha_t_p = compute_alpha_normalized(z_1_t_minus_1=z_1_t_minus_1_a_t_minus_1_p,\n",
    "                                                 num_topics=num_topics,\n",
    "                                                 num_voc=num_words,\n",
    "                                                 lstm=lstm_model,\n",
    "                                                 ssm=ssm_model)\n",
    "            alpha_t_p = alpha_t_p[x[t - 1] - 1]\n",
    "            alpha_matrix[p - 1, t] = alpha_t_p\n",
    "\n",
    "        alpha_matrix[:, t] = alpha_matrix[:, t] / (alpha_matrix[:, t].sum() + 1e-6)\n",
    "\n",
    "    alpha_T = alpha_matrix[:, -1]\n",
    "    alpha_T = alpha_T / (alpha_T.sum() + 1e-6)\n",
    "    r = torch.multinomial(alpha_T, 1).item()+1\n",
    "    a_T_r = ancestor_matrix[int(r) - 1, -1]\n",
    "    z_1_T = Z_matrix[int(a_T_r) - 1, 1:]\n",
    "\n",
    "    return z_1_T\n"
   ]
  },
  {
   "cell_type": "markdown",
   "metadata": {
    "id": "ZVJyJMZTUlsl"
   },
   "source": [
    "## Train"
   ]
  },
  {
   "cell_type": "code",
   "execution_count": null,
   "metadata": {
    "id": "X0AKORMeUlsl"
   },
   "outputs": [],
   "source": [
    "HIDDEN_SIZE = 64\n",
    "TRAIN_SEQUENCE_LENGTH = 100\n",
    "TEST_SEQUENCE_LENGTH = 70\n",
    "MODEL_LENGTH = 10\n",
    "NUM_TOPICS = 100\n",
    "NUM_WORDS = 5000\n",
    "N_EPOCHS = 5\n",
    "NUM_PARTICULES = 10\n",
    "N = 200\n",
    "\n",
    "lstm_model=LSTM(input_size=NUM_TOPICS, hidden_size=HIDDEN_SIZE, output_size=NUM_TOPICS, model_length=MODEL_LENGTH, batch_size=1)\n",
    "criterion = nn.CrossEntropyLoss(reduction='sum')\n",
    "optimizer = optim.Adam(lstm_model.parameters())\n",
    "ssm_model = SSMPytorch(num_words=NUM_WORDS, num_topics=NUM_TOPICS)"
   ]
  },
  {
   "cell_type": "code",
   "execution_count": null,
   "metadata": {
    "colab": {
     "base_uri": "https://localhost:8080/"
    },
    "id": "08ig8h2-Uwbe",
    "outputId": "a198bd0d-7866-4648-db49-c2e4138050b2"
   },
   "outputs": [
    {
     "name": "stdout",
     "output_type": "stream",
     "text": [
      "epoch: 1\n"
     ]
    },
    {
     "name": "stderr",
     "output_type": "stream",
     "text": [
      "C:\\Users\\yanis\\AppData\\Local\\Temp\\ipykernel_121220\\2488810157.py:10: UserWarning: To copy construct from a tensor, it is recommended to use sourceTensor.clone().detach() or sourceTensor.clone().detach().requires_grad_(True), rather than torch.tensor(sourceTensor).\n",
      "  input_sequence=torch.tensor(self.topics[index:index+self.model_length, :])\n",
      "C:\\Users\\yanis\\AppData\\Local\\Temp\\ipykernel_121220\\2488810157.py:11: UserWarning: To copy construct from a tensor, it is recommended to use sourceTensor.clone().detach() or sourceTensor.clone().detach().requires_grad_(True), rather than torch.tensor(sourceTensor).\n",
      "  target_sequence=torch.tensor(self.topics[index+1:index+self.model_length+1, :])\n"
     ]
    },
    {
     "ename": "RuntimeError",
     "evalue": "a Tensor with 70 elements cannot be converted to Scalar",
     "output_type": "error",
     "traceback": [
      "\u001b[1;31m---------------------------------------------------------------------------\u001b[0m",
      "\u001b[1;31mRuntimeError\u001b[0m                              Traceback (most recent call last)",
      "Cell \u001b[1;32mIn[12], line 51\u001b[0m\n\u001b[0;32m     49\u001b[0m     loss \u001b[38;5;241m+\u001b[39m\u001b[38;5;241m=\u001b[39m perplexity\n\u001b[0;32m     50\u001b[0m mean_loss \u001b[38;5;241m=\u001b[39m loss\u001b[38;5;241m/\u001b[39mz_pred\u001b[38;5;241m.\u001b[39mshape[\u001b[38;5;241m0\u001b[39m]\n\u001b[1;32m---> 51\u001b[0m mean_loss_item \u001b[38;5;241m=\u001b[39m mean_loss\u001b[38;5;241m.\u001b[39mitem()\n\u001b[0;32m     52\u001b[0m \u001b[38;5;28mprint\u001b[39m(\u001b[38;5;124m\"\u001b[39m\u001b[38;5;124mPerplexity: \u001b[39m\u001b[38;5;132;01m{}\u001b[39;00m\u001b[38;5;124m\"\u001b[39m\u001b[38;5;241m.\u001b[39mformat(mean_loss_item))\n\u001b[0;32m     53\u001b[0m end_time \u001b[38;5;241m=\u001b[39m time\u001b[38;5;241m.\u001b[39mtime()\n",
      "\u001b[1;31mRuntimeError\u001b[0m: a Tensor with 70 elements cannot be converted to Scalar"
     ]
    }
   ],
   "source": [
    "X_train_torch = torch.tensor(X_train, dtype = torch.long)\n",
    "X_test_torch = torch.tensor(X_test, dtype = torch.long)\n",
    "\n",
    "list_mean_loss = []\n",
    "\n",
    "for epoch in range(N_EPOCHS):\n",
    "    shuffle_sample = random.sample(range(N), N)\n",
    "    start_time = time.time()\n",
    "    print(\"epoch: {}\".format(epoch+1))\n",
    "    previous_z_1_T_star = torch.randint(1, NUM_TOPICS + 1, (X_train_torch.shape[0], TRAIN_SEQUENCE_LENGTH))\n",
    "    z_star_train = []\n",
    "    for i in shuffle_sample:\n",
    "        X_train_torch_i = X_train_torch[i]\n",
    "        z_star_train_i = particle_gibbs(X_train_torch_i, previous_z_1_T_star[i], NUM_PARTICULES, NUM_TOPICS, NUM_WORDS, TRAIN_SEQUENCE_LENGTH, lstm_model, ssm_model)\n",
    "        z_star_one_hot_train_i = F.one_hot(z_star_train_i-1, num_classes=NUM_TOPICS).float()\n",
    "        dataset_i=Dataset(topics=z_star_one_hot_train_i, model_length=MODEL_LENGTH)\n",
    "        dataloader_i = DataLoader(dataset_i, batch_size=1)\n",
    "        lstm_model.train_model(dataloader_i, optimizer, criterion)\n",
    "        ssm_model.compute_MLE_SSM(X_train_torch_i, z_star_train_i)\n",
    "        z_star_train.append(z_star_train_i)\n",
    "    \n",
    "    z_star_train = torch.stack(z_star_train)\n",
    "    \n",
    "    z_pred = []\n",
    "    for i in shuffle_sample:\n",
    "        input_sequence = z_star_train[i]\n",
    "        input_seq_one_hot = F.one_hot(input_sequence-1, num_classes=NUM_TOPICS).float()\n",
    "        input_seq_one_hot = input_seq_one_hot\n",
    "        for t in range(TEST_SEQUENCE_LENGTH):\n",
    "            z_next = torch.tensor([lstm_model.sample_next_z(input_seq_one_hot)])\n",
    "            input_sequence = torch.cat([input_sequence, z_next])\n",
    "            input_seq_one_hot = F.one_hot(input_sequence-1, num_classes=NUM_TOPICS).float()\n",
    "        z_pred_i = input_sequence[-TEST_SEQUENCE_LENGTH:]\n",
    "        z_pred.append(z_pred_i)\n",
    "    z_pred = torch.stack(z_pred)\n",
    "    \n",
    "    loss = 0\n",
    "    for i in shuffle_sample:\n",
    "        z_pred_i = z_pred[i]\n",
    "        proba_x_pred_i = []\n",
    "        for t in range(TEST_SEQUENCE_LENGTH):\n",
    "            z_pred_i_t = z_pred_i[t].item()\n",
    "            proba_x_pred_i_t = ssm_model.predict_proba(z_pred_i_t)\n",
    "            proba_x_pred_i.append(proba_x_pred_i_t)\n",
    "        proba_x_pred_i = torch.stack(proba_x_pred_i)\n",
    "        X_test_i = X_test_torch[i]\n",
    "        cross_entropy = F.cross_entropy(proba_x_pred_i, F.one_hot(X_test_i-1, num_classes=NUM_WORDS).float(), reduction = \"sum\")\n",
    "        perplexity  = torch.exp(cross_entropy)\n",
    "        loss += perplexity\n",
    "    mean_loss = loss/z_pred.shape[0]\n",
    "    mean_loss_item = mean_loss.item()\n",
    "    print(\"Perplexity: {}\".format(mean_loss_item))\n",
    "    end_time = time.time()\n",
    "    elapsed_time = end_time - start_time\n",
    "    print(\"Elapsed Time: {:.2f} seconds\".format(elapsed_time))\n",
    "    list_mean_loss.append(mean_loss_item)"
   ]
  },
  {
   "cell_type": "code",
   "execution_count": null,
   "metadata": {},
   "outputs": [
    {
     "name": "stdout",
     "output_type": "stream",
     "text": [
      "Stored 'list_mean_loss' (list)\n"
     ]
    }
   ],
   "source": [
    "%store list_mean_loss"
   ]
  },
  {
   "cell_type": "code",
   "execution_count": null,
   "metadata": {},
   "outputs": [
    {
     "data": {
      "image/png": "[encoded data removed]",
      "text/plain": [
       "<Figure size 640x480 with 1 Axes>"
      ]
     },
     "metadata": {},
     "output_type": "display_data"
    }
   ],
   "source": [
    "plt.figure()\n",
    "plt.plot(range(1, N_EPOCHS + 1), list_mean_loss, 'o-', color='red', label='Perplexity')\n",
    "plt.title('Topics K = 50')\n",
    "plt.xlabel('Epochs')\n",
    "plt.ylabel('Perplexity')\n",
    "plt.legend()\n",
    "plt.grid()\n",
    "# plt.savefig(\"perplexity_50_topics.png\")\n",
    "plt.show()"
   ]
  }
 ],
 "metadata": {
  "accelerator": "GPU",
  "colab": {
   "gpuType": "T4",
   "provenance": []
  },
  "kernelspec": {
   "display_name": "Python 3 (ipykernel)",
   "language": "python",
   "name": "python3"
  },
  "language_info": {
   "codemirror_mode": {
    "name": "ipython",
    "version": 3
   },
   "file_extension": ".py",
   "mimetype": "text/x-python",
   "name": "python",
   "nbconvert_exporter": "python",
   "pygments_lexer": "ipython3",
   "version": "3.11.5"
  }
 },
 "nbformat": 4,
 "nbformat_minor": 4
}
