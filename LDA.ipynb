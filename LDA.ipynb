{
 "cells": [
  {
   "cell_type": "code",
   "execution_count": 5,
   "metadata": {},
   "outputs": [],
   "source": [
    "import vectorize\n",
    "import pandas as pd\n",
    "import numpy as np"
   ]
  },
  {
   "cell_type": "code",
   "execution_count": 3,
   "metadata": {},
   "outputs": [
    {
     "data": {
      "text/html": [
       "<div>\n",
       "<style scoped>\n",
       "    .dataframe tbody tr th:only-of-type {\n",
       "        vertical-align: middle;\n",
       "    }\n",
       "\n",
       "    .dataframe tbody tr th {\n",
       "        vertical-align: top;\n",
       "    }\n",
       "\n",
       "    .dataframe thead th {\n",
       "        text-align: right;\n",
       "    }\n",
       "</style>\n",
       "<table border=\"1\" class=\"dataframe\">\n",
       "  <thead>\n",
       "    <tr style=\"text-align: right;\">\n",
       "      <th></th>\n",
       "      <th>Text</th>\n",
       "      <th>Title</th>\n",
       "    </tr>\n",
       "  </thead>\n",
       "  <tbody>\n",
       "    <tr>\n",
       "      <th>0</th>\n",
       "      <td>Joseph Harold Greenberg (May 28, 1915 – May 7,...</td>\n",
       "      <td>Joseph Greenberg</td>\n",
       "    </tr>\n",
       "    <tr>\n",
       "      <th>1</th>\n",
       "      <td>Pauline Donalda,  (March 5, 1882 – October 22,...</td>\n",
       "      <td>Pauline Donalda</td>\n",
       "    </tr>\n",
       "    <tr>\n",
       "      <th>2</th>\n",
       "      <td>This is a list of German football transfers in...</td>\n",
       "      <td>List of German football transfers summer 2017</td>\n",
       "    </tr>\n",
       "    <tr>\n",
       "      <th>3</th>\n",
       "      <td>Lester Hudson III (born August 7, 1984) is an ...</td>\n",
       "      <td>Lester Hudson</td>\n",
       "    </tr>\n",
       "    <tr>\n",
       "      <th>4</th>\n",
       "      <td>Monique Ganderton (born August 6, 1980) is a C...</td>\n",
       "      <td>Monique Ganderton</td>\n",
       "    </tr>\n",
       "  </tbody>\n",
       "</table>\n",
       "</div>"
      ],
      "text/plain": [
       "                                                Text  \\\n",
       "0  Joseph Harold Greenberg (May 28, 1915 – May 7,...   \n",
       "1  Pauline Donalda,  (March 5, 1882 – October 22,...   \n",
       "2  This is a list of German football transfers in...   \n",
       "3  Lester Hudson III (born August 7, 1984) is an ...   \n",
       "4  Monique Ganderton (born August 6, 1980) is a C...   \n",
       "\n",
       "                                           Title  \n",
       "0                               Joseph Greenberg  \n",
       "1                                Pauline Donalda  \n",
       "2  List of German football transfers summer 2017  \n",
       "3                                  Lester Hudson  \n",
       "4                              Monique Ganderton  "
      ]
     },
     "metadata": {},
     "output_type": "display_data"
    },
    {
     "name": "stdout",
     "output_type": "stream",
     "text": [
      "Number of articles: 100000\n"
     ]
    }
   ],
   "source": [
    "data = pd.read_csv(\"C:\\\\Users\\\\yanis\\\\OneDrive\\\\Documents\\\\ENSAE 3A\\\\Sequential MC\\\\code\\\\wiki_data.csv\",\n",
    "                    encoding='utf-8',\n",
    "                    delimiter=\";\")\n",
    "del data[\"Unnamed: 0\"]\n",
    "display(data.head())\n",
    "print(\"Number of articles: {}\".format(len(data)))"
   ]
  },
  {
   "cell_type": "code",
   "execution_count": 4,
   "metadata": {},
   "outputs": [
    {
     "data": {
      "text/html": [
       "<div>\n",
       "<style scoped>\n",
       "    .dataframe tbody tr th:only-of-type {\n",
       "        vertical-align: middle;\n",
       "    }\n",
       "\n",
       "    .dataframe tbody tr th {\n",
       "        vertical-align: top;\n",
       "    }\n",
       "\n",
       "    .dataframe thead th {\n",
       "        text-align: right;\n",
       "    }\n",
       "</style>\n",
       "<table border=\"1\" class=\"dataframe\">\n",
       "  <thead>\n",
       "    <tr style=\"text-align: right;\">\n",
       "      <th></th>\n",
       "      <th>Text</th>\n",
       "      <th>Title</th>\n",
       "      <th>tokenized_text</th>\n",
       "      <th>vectorized_text</th>\n",
       "    </tr>\n",
       "  </thead>\n",
       "  <tbody>\n",
       "    <tr>\n",
       "      <th>0</th>\n",
       "      <td>Joseph Harold Greenberg (May 28, 1915 – May 7,...</td>\n",
       "      <td>Joseph Greenberg</td>\n",
       "      <td>[Joseph, Harold, Greenberg, (, May, 28, ,, 191...</td>\n",
       "      <td>[355052, 319116, 307401, 9131, 420660, 77338, ...</td>\n",
       "    </tr>\n",
       "    <tr>\n",
       "      <th>3</th>\n",
       "      <td>Lester Hudson III (born August 7, 1984) is an ...</td>\n",
       "      <td>Lester Hudson</td>\n",
       "      <td>[Lester, Hudson, III, (, born, August, 7, ,, 1...</td>\n",
       "      <td>[393739, 331745, 336067, 9131, 680122, 154190,...</td>\n",
       "    </tr>\n",
       "    <tr>\n",
       "      <th>4</th>\n",
       "      <td>Monique Ganderton (born August 6, 1980) is a C...</td>\n",
       "      <td>Monique Ganderton</td>\n",
       "      <td>[Monique, Ganderton, (, born, August, 6, ,, 19...</td>\n",
       "      <td>[435395, 294432, 9131, 680122, 154190, 106301,...</td>\n",
       "    </tr>\n",
       "    <tr>\n",
       "      <th>6</th>\n",
       "      <td>The white bikini of Ursula Andress (also known...</td>\n",
       "      <td>White bikini of Ursula Andress</td>\n",
       "      <td>[The, white, bikini, of, Ursula, Andress, (, a...</td>\n",
       "      <td>[595024, 883327, 676981, 796386, 617057, 14235...</td>\n",
       "    </tr>\n",
       "    <tr>\n",
       "      <th>15</th>\n",
       "      <td>\"Breakout\" is a single from British act Swing ...</td>\n",
       "      <td>Breakout (Swing Out Sister song)</td>\n",
       "      <td>[``, Breakout, '', is, a, single, from, Britis...</td>\n",
       "      <td>[656731, 185419, 6, 757852, 656732, 844440, 73...</td>\n",
       "    </tr>\n",
       "  </tbody>\n",
       "</table>\n",
       "</div>"
      ],
      "text/plain": [
       "                                                 Text  \\\n",
       "0   Joseph Harold Greenberg (May 28, 1915 – May 7,...   \n",
       "3   Lester Hudson III (born August 7, 1984) is an ...   \n",
       "4   Monique Ganderton (born August 6, 1980) is a C...   \n",
       "6   The white bikini of Ursula Andress (also known...   \n",
       "15  \"Breakout\" is a single from British act Swing ...   \n",
       "\n",
       "                               Title  \\\n",
       "0                   Joseph Greenberg   \n",
       "3                      Lester Hudson   \n",
       "4                  Monique Ganderton   \n",
       "6     White bikini of Ursula Andress   \n",
       "15  Breakout (Swing Out Sister song)   \n",
       "\n",
       "                                       tokenized_text  \\\n",
       "0   [Joseph, Harold, Greenberg, (, May, 28, ,, 191...   \n",
       "3   [Lester, Hudson, III, (, born, August, 7, ,, 1...   \n",
       "4   [Monique, Ganderton, (, born, August, 6, ,, 19...   \n",
       "6   [The, white, bikini, of, Ursula, Andress, (, a...   \n",
       "15  [``, Breakout, '', is, a, single, from, Britis...   \n",
       "\n",
       "                                      vectorized_text  \n",
       "0   [355052, 319116, 307401, 9131, 420660, 77338, ...  \n",
       "3   [393739, 331745, 336067, 9131, 680122, 154190,...  \n",
       "4   [435395, 294432, 9131, 680122, 154190, 106301,...  \n",
       "6   [595024, 883327, 676981, 796386, 617057, 14235...  \n",
       "15  [656731, 185419, 6, 757852, 656732, 844440, 73...  "
      ]
     },
     "metadata": {},
     "output_type": "display_data"
    }
   ],
   "source": [
    "vectorized_data=vectorize.vectorize_data(data)\n",
    "display(vectorized_data.head())"
   ]
  }
 ],
 "metadata": {
  "kernelspec": {
   "display_name": "base",
   "language": "python",
   "name": "python3"
  },
  "language_info": {
   "codemirror_mode": {
    "name": "ipython",
    "version": 3
   },
   "file_extension": ".py",
   "mimetype": "text/x-python",
   "name": "python",
   "nbconvert_exporter": "python",
   "pygments_lexer": "ipython3",
   "version": "3.9.13"
  }
 },
 "nbformat": 4,
 "nbformat_minor": 2
}
