{
 "cells": [
  {
   "cell_type": "code",
   "execution_count": 1,
   "metadata": {},
   "outputs": [
    {
     "name": "stdout",
     "output_type": "stream",
     "text": [
      "Collecting particles\n",
      "  Downloading particles-0.4-py3-none-any.whl.metadata (4.6 kB)\n",
      "Requirement already satisfied: joblib in /home/codespace/.local/lib/python3.10/site-packages (from particles) (1.3.2)\n",
      "Collecting numba (from particles)\n",
      "  Downloading numba-0.58.1-cp310-cp310-manylinux2014_x86_64.manylinux_2_17_x86_64.whl.metadata (2.7 kB)\n",
      "Requirement already satisfied: numpy<2,>=1.18 in /home/codespace/.local/lib/python3.10/site-packages (from particles) (1.26.2)\n",
      "Requirement already satisfied: scipy>=1.7 in /home/codespace/.local/lib/python3.10/site-packages (from particles) (1.11.4)\n",
      "Requirement already satisfied: scikit-learn in /home/codespace/.local/lib/python3.10/site-packages (from particles) (1.3.2)\n",
      "Collecting llvmlite<0.42,>=0.41.0dev0 (from numba->particles)\n",
      "  Downloading llvmlite-0.41.1-cp310-cp310-manylinux_2_17_x86_64.manylinux2014_x86_64.whl.metadata (4.8 kB)\n",
      "Requirement already satisfied: threadpoolctl>=2.0.0 in /home/codespace/.local/lib/python3.10/site-packages (from scikit-learn->particles) (3.2.0)\n",
      "Downloading particles-0.4-py3-none-any.whl (670 kB)\n",
      "\u001b[2K   \u001b[90m━━━━━━━━━━━━━━━━━━━━━━━━━━━━━━━━━━━━━━━━\u001b[0m \u001b[32m670.5/670.5 kB\u001b[0m \u001b[31m16.8 MB/s\u001b[0m eta \u001b[36m0:00:00\u001b[0m00:01\u001b[0m\n",
      "\u001b[?25hDownloading numba-0.58.1-cp310-cp310-manylinux2014_x86_64.manylinux_2_17_x86_64.whl (3.6 MB)\n",
      "\u001b[2K   \u001b[90m━━━━━━━━━━━━━━━━━━━━━━━━━━━━━━━━━━━━━━━━\u001b[0m \u001b[32m3.6/3.6 MB\u001b[0m \u001b[31m40.0 MB/s\u001b[0m eta \u001b[36m0:00:00\u001b[0m:00:01\u001b[0m\n",
      "\u001b[?25hDownloading llvmlite-0.41.1-cp310-cp310-manylinux_2_17_x86_64.manylinux2014_x86_64.whl (43.6 MB)\n",
      "\u001b[2K   \u001b[90m━━━━━━━━━━━━━━━━━━━━━━━━━━━━━━━━━━━━━━━━\u001b[0m \u001b[32m43.6/43.6 MB\u001b[0m \u001b[31m22.5 MB/s\u001b[0m eta \u001b[36m0:00:00\u001b[0m00:01\u001b[0m:00:01\u001b[0m\n",
      "\u001b[?25hInstalling collected packages: llvmlite, numba, particles\n",
      "Successfully installed llvmlite-0.41.1 numba-0.58.1 particles-0.4\n"
     ]
    }
   ],
   "source": [
    "!pip install particles"
   ]
  },
  {
   "cell_type": "code",
   "execution_count": 2,
   "metadata": {},
   "outputs": [],
   "source": [
    "import numpy as np\n",
    "from scipy import stats\n",
    "from scipy.special import softmax\n",
    "from particles import mcmc\n",
    "from particles import state_space_models as ssms"
   ]
  },
  {
   "cell_type": "code",
   "execution_count": 3,
   "metadata": {},
   "outputs": [],
   "source": [
    "class StateSpaceModel(ssms.StateSpaceModel):\n",
    "    default_params = {'sigma': 1., 'rho': 0.8}  # optional\n",
    "    def PY(self, t, xp, x):  # dist of Y_t at time t, given X_t and X_{t-1}\n",
    "        return dists.Normal(scale=np.exp(x))\n",
    "    def PX(self, t, xp):  # dist of X_t at time t, given X_{t-1}\n",
    "        return dists.Normal(loc=self.mu + self.rho * (xp - self.mu),\n",
    "                            scale=self.sigma)\n",
    "    def PX0(self):  # dist of X_0\n",
    "        return dists.Normal(scale=self.sigma / np.sqrt(1. - self.rho**2))\n",
    "\n",
    "class ParticleGibbs(mcmc.ParticleGibbs):\n",
    "    def update_theta(self, theta, x):\n",
    "        new_theta = theta.copy()\n",
    "        return softmax(W @ x + b)\n",
    "\n",
    "# Exemple du livre\n",
    "# alg = PGStochVol(ssm_cls=StochVol, data=y, prior=my_prior,\n",
    "# Nx=200, niter=1000)\n",
    "# alg.run()"
   ]
  }
 ],
 "metadata": {
  "kernelspec": {
   "display_name": "Python 3",
   "language": "python",
   "name": "python3"
  },
  "language_info": {
   "codemirror_mode": {
    "name": "ipython",
    "version": 3
   },
   "file_extension": ".py",
   "mimetype": "text/x-python",
   "name": "python",
   "nbconvert_exporter": "python",
   "pygments_lexer": "ipython3",
   "version": "3.10.13"
  }
 },
 "nbformat": 4,
 "nbformat_minor": 2
}
