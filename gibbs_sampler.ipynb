{
 "cells": [
  {
   "cell_type": "code",
   "execution_count": 1,
   "metadata": {},
   "outputs": [],
   "source": [
    "import numpy as np\n",
    "from scipy import stats\n",
    "from scipy.special import softmax"
   ]
  },
  {
   "cell_type": "code",
   "execution_count": 3,
   "metadata": {},
   "outputs": [
    {
     "ename": "SyntaxError",
     "evalue": "invalid syntax (2575116326.py, line 24)",
     "output_type": "error",
     "traceback": [
      "\u001b[0;36m  Cell \u001b[0;32mIn[3], line 24\u001b[0;36m\u001b[0m\n\u001b[0;31m    z[p, 1:t] z[a[p, t-1],1:t-1]\u001b[0m\n\u001b[0m              ^\u001b[0m\n\u001b[0;31mSyntaxError\u001b[0m\u001b[0;31m:\u001b[0m invalid syntax\n"
     ]
    }
   ],
   "source": [
    "def Particle_Gibbs(P, T, z0):\n",
    "    '''Inference with Particle Gibbs'''\n",
    "    \n",
    "    #1. Intialize\n",
    "    z = np.zeros((p,T)) #particles\n",
    "    alpha =  np.zeros((p,T)) #weights\n",
    "    a = np.zeros((p,T)) #ancestors\n",
    "    z[:, 0] = z0\n",
    "    alpha[:, 0] = 1/P\n",
    "\n",
    "    #2.\n",
    "    for t in range(T):\n",
    "        #Fix reference path\n",
    "        a[1, t-1]=1\n",
    "        z[1, 1:t]=z_star[1:t]\n",
    "\n",
    "        #Sample ancestors\n",
    "        for p in range(1, P):\n",
    "            a[p, t-1] = alpha[t-1]\n",
    "\n",
    "        #Sample particles\n",
    "        for p in range(1, P):\n",
    "            z[p, t] = gamma[p, t]\n",
    "            z[p, 1:t] z[a[p, t-1],1:t-1]\n",
    "\n",
    "        #Compute normalized weights\n",
    "        for p in range(P):\n",
    "            #alpha[p, t] = \n",
    "\n",
    "    #3. Sample r~alpha_T and return the particle path\n",
    "    r = alpha[T]\n",
    "    return z[a[r, T], 1:T]"
   ]
  },
  {
   "cell_type": "code",
   "execution_count": null,
   "metadata": {},
   "outputs": [],
   "source": []
  }
 ],
 "metadata": {
  "kernelspec": {
   "display_name": "Python 3",
   "language": "python",
   "name": "python3"
  },
  "language_info": {
   "codemirror_mode": {
    "name": "ipython",
    "version": 3
   },
   "file_extension": ".py",
   "mimetype": "text/x-python",
   "name": "python",
   "nbconvert_exporter": "python",
   "pygments_lexer": "ipython3",
   "version": "3.10.13"
  }
 },
 "nbformat": 4,
 "nbformat_minor": 2
}
