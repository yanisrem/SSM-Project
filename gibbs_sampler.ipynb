{
 "cells": [
  {
   "cell_type": "code",
   "execution_count": null,
   "metadata": {},
   "outputs": [],
   "source": [
    "!pip install particles"
   ]
  },
  {
   "cell_type": "code",
   "execution_count": null,
   "metadata": {},
   "outputs": [],
   "source": [
    "import numpy as np\n",
    "from scipy import stats\n",
    "from scipy.special import softmax\n",
    "from particles import mcmc\n",
    "from particles import state_space_models as ssms"
   ]
  },
  {
   "cell_type": "code",
   "execution_count": null,
   "metadata": {},
   "outputs": [],
   "source": [
    "class StateSpaceModel(ssms.StateSpaceModel):\n",
    "    default_params = {'sigma': 1., 'rho': 0.8}  # optional\n",
    "    def PY(self, t, xp, x):  # dist of Y_t at time t, given X_t and X_{t-1}\n",
    "        return dists.Normal(scale=np.exp(x))\n",
    "    def PX(self, t, xp):  # dist of X_t at time t, given X_{t-1}\n",
    "        return dists.Normal(loc=self.mu + self.rho * (xp - self.mu),\n",
    "                            scale=self.sigma)\n",
    "    def PX0(self):  # dist of X_0\n",
    "        return dists.Normal(scale=self.sigma / np.sqrt(1. - self.rho**2))\n",
    "\n",
    "class ParticleGibbs(mcmc.ParticleGibbs):\n",
    "    def update_theta(self, theta, x):\n",
    "        new_theta = theta.copy()\n",
    "        return softmax(W @ x + b)\n",
    "    \n",
    "# alg = PGStochVol(ssm_cls=StochVol, data=y, prior=my_prior,\n",
    "# Nx=200, niter=1000)\n",
    "# alg.run()"
   ]
  }
 ],
 "metadata": {
  "language_info": {
   "name": "python"
  }
 },
 "nbformat": 4,
 "nbformat_minor": 2
}
