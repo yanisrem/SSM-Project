{
  "cells": [
    {
      "cell_type": "code",
      "execution_count": 22,
      "metadata": {
        "id": "MfO30nSoUlsg"
      },
      "outputs": [],
      "source": [
        "import pandas as pd\n",
        "import numpy as np\n",
        "from keras.utils import to_categorical\n",
        "import torch\n",
        "import torch.nn as nn\n",
        "from torch.utils.data import DataLoader\n",
        "import torch.optim as optim\n",
        "import torch.nn.functional as F\n",
        "from tensorflow.keras.datasets import imdb\n",
        "import matplotlib.pyplot as plt\n",
        "from tensorflow.keras.preprocessing import sequence\n",
        "seed = 123"
      ]
    },
    {
      "cell_type": "markdown",
      "metadata": {
        "id": "eNTWEQ_MUlsi"
      },
      "source": [
        "# Import and pre-processing"
      ]
    },
    {
      "cell_type": "code",
      "execution_count": 23,
      "metadata": {
        "colab": {
          "base_uri": "https://localhost:8080/"
        },
        "id": "37zg2hZNUlsi",
        "outputId": "b4e4bc17-c3d1-4a13-dfeb-94362ecd3305"
      },
      "outputs": [
        {
          "output_type": "stream",
          "name": "stdout",
          "text": [
            "<START> although i had seen <UNK> in a theater way back in <UNK> i couldn't remember anything of the plot except for vague images of kurt thomas running and fighting against a backdrop of stone walls and disappointment regarding the ending br br after reading some of the other reviews i picked up a copy of the newly released dvd to once again enter the world of <UNK> br br it turns out this is one of those films produced during the <UNK> that would go directly to video today the film stars <UNK> <UNK> kurt thomas as jonathan <UNK> <UNK> out of the blue to <UNK> the nation of <UNK> to enter and hopefully win the game a <UNK> <UNK> <UNK> by the khan who <UNK> his people by yelling what sounds like <UNK> power the goal of the mission involves the star wars defense system jonathan is trained in the martial arts by princess <UNK> who never speaks or leaves the house once trained tries to blend in with the <UNK> by wearing a bright red <UNK> with <UNK> of blue and white needless to say <UNK> finds himself running and fighting for his life along the stone streets of <UNK> on his way to a date with destiny and the game br br star kurt thomas was ill served by director robert <UNK> who it looks like was never on the set the so called script is just this side of incompetent see other reviews for the many <UNK> throughout the town of <UNK> has a few good moments but is ultimately ruined by bad editing the ending <UNK> still there's the <UNK> of a good action adventure here a hong kong version with more <UNK> action and faster pace might even be pretty good\n"
          ]
        }
      ],
      "source": [
        "NUM_WORDS = 5000\n",
        "max_review_length = 100\n",
        "INDEX_FROM = 3\n",
        "\n",
        "# --- Import the IMDB data and only consider the ``top_words``` most used words\n",
        "np.load.__defaults__=(None, True, True, 'ASCII')\n",
        "(X_train, y_train), (X_test, y_test) = imdb.load_data(num_words=NUM_WORDS, index_from=INDEX_FROM)\n",
        "np.load.__defaults__=(None, False, True, 'ASCII')\n",
        "\n",
        "word_to_id = imdb.get_word_index()\n",
        "word_to_id = {k:(v+INDEX_FROM) for k,v in word_to_id.items()}\n",
        "word_to_id[\"<PAD>\"] = 0\n",
        "word_to_id[\"<START>\"] = 1\n",
        "word_to_id[\"<UNK>\"] = 2\n",
        "\n",
        "id_to_word = {value:key for key,value in word_to_id.items()}\n",
        "print(' '.join(id_to_word[id] for id in X_train[1000] ))"
      ]
    },
    {
      "cell_type": "code",
      "execution_count": 24,
      "metadata": {
        "colab": {
          "base_uri": "https://localhost:8080/"
        },
        "id": "G1X_KJbJUlsj",
        "outputId": "254a706f-b2b8-4ee0-b768-17381ae228dd"
      },
      "outputs": [
        {
          "output_type": "stream",
          "name": "stdout",
          "text": [
            "len(X_train[0]): 100\n",
            "len(X_train[1]): 100\n",
            "X_train[0]: [   1   14   22   16   43  530  973 1622 1385   65  458 4468   66 3941\n",
            "    4  173   36  256    5   25  100   43  838  112   50  670    2    9\n",
            "   35  480  284    5  150    4  172  112  167    2  336  385   39    4\n",
            "  172 4536 1111   17  546   38   13  447    4  192   50   16    6  147\n",
            " 2025   19   14   22    4 1920 4613  469    4   22   71   87   12   16\n",
            "   43  530   38   76   15   13 1247    4   22   17  515   17   12   16\n",
            "  626   18    2    5   62  386   12    8  316    8  106    5    4 2223\n",
            "    2   16]\n"
          ]
        }
      ],
      "source": [
        "# --- truncate and pad input sequences\n",
        "X_train = X_train[:5]\n",
        "X_test = X_test[:600]\n",
        "\n",
        "X_train = sequence.pad_sequences(X_train, maxlen=max_review_length, padding='post', truncating='post', value=0)\n",
        "X_test = sequence.pad_sequences(X_test, maxlen=max_review_length, padding='post', truncating='post', value=0)\n",
        "\n",
        "print(\"len(X_train[0]):\", len(X_train[0]))\n",
        "print(\"len(X_train[1]):\", len(X_train[1]))\n",
        "print(\"X_train[0]:\", X_train[0])"
      ]
    },
    {
      "cell_type": "markdown",
      "metadata": {
        "id": "ty6AqZwAUlsj"
      },
      "source": [
        "# LSTM"
      ]
    },
    {
      "cell_type": "code",
      "execution_count": 25,
      "metadata": {
        "id": "23wnOVFHUlsj"
      },
      "outputs": [],
      "source": [
        "class Dataset(torch.utils.data.Dataset):\n",
        "    def __init__(self, topics, model_length):\n",
        "        self.topics=topics\n",
        "        self.model_length=model_length\n",
        "\n",
        "    def __len__(self):\n",
        "        return len(self.topics)-self.model_length\n",
        "\n",
        "    def __getitem__(self, index):\n",
        "        input_sequence=torch.tensor(self.topics[index:index+self.model_length, :])\n",
        "        target_sequence=torch.tensor(self.topics[index+1:index+self.model_length+1, :])\n",
        "\n",
        "        return input_sequence, target_sequence"
      ]
    },
    {
      "cell_type": "code",
      "execution_count": 26,
      "metadata": {
        "id": "Y7qp8RODUlsj"
      },
      "outputs": [],
      "source": [
        "class LSTM(nn.Module):\n",
        "    def __init__(self, input_size, hidden_size, output_size, model_length, batch_size):\n",
        "        super(LSTM, self).__init__()\n",
        "        self.input_size = input_size #input size (NUM_TOPICS)\n",
        "        self.hidden_size = hidden_size #number of hidden neurons\n",
        "        self.output_size = output_size #output size (NUM_TOPICS)\n",
        "        self.model_length=model_length\n",
        "        self.batch_size = batch_size\n",
        "\n",
        "        self.lstm = nn.LSTM(self.input_size, self.hidden_size, batch_first=True)\n",
        "        self.fc = nn.Linear(self.hidden_size, self.output_size)\n",
        "\n",
        "    def forward(self, x, prev_state):\n",
        "        output, state = self.lstm(x, prev_state)\n",
        "        output=self.fc(output)\n",
        "        probabilities = F.softmax(output[:, -1, :], dim=1)\n",
        "        return probabilities, state\n",
        "\n",
        "    def init_state(self):\n",
        "        return (torch.zeros(1, self.batch_size, self.hidden_size), #(NUM_LAYERS, BATCH SIZE, NUM_NEURONES)\n",
        "                torch.zeros(1, self.batch_size, self.hidden_size))\n",
        "\n",
        "    def train_model(self, dataset, optimizer, criterion):\n",
        "        state_h, state_c = self.init_state()\n",
        "        self.train()\n",
        "        for t, (x, y) in enumerate(dataset):\n",
        "            optimizer.zero_grad()\n",
        "            softmax , (state_h, state_c) = self(x, (state_h, state_c)) #softmax= p(z_{t+1}|z_1:t)\n",
        "            loss = criterion(softmax, y[:, -1, :])\n",
        "            state_h = state_h.detach()\n",
        "            state_c = state_c.detach()\n",
        "\n",
        "            loss.backward()\n",
        "            optimizer.step()\n",
        "        print({'loss': loss.item() })\n",
        "\n",
        "    def predict_next_probability(self, input_sequence):\n",
        "        state_h, state_c = self.init_state()\n",
        "        with torch.no_grad():\n",
        "            for t in range(len(input_sequence)):\n",
        "                input_t = input_sequence[t].unsqueeze(0).unsqueeze(0)\n",
        "                _, (state_h, state_c) = self(input_t, (state_h, state_c))\n",
        "\n",
        "        input_t = input_sequence[-1].unsqueeze(0).unsqueeze(0)\n",
        "        probabilities, _ = self(input_t, (state_h, state_c))\n",
        "\n",
        "        return probabilities\n",
        "\n",
        "    def sample_next_z(self, input_sequence):\n",
        "        proba = self.predict_next_probability(input_sequence)\n",
        "        return torch.multinomial(proba, 1).item()+1"
      ]
    },
    {
      "cell_type": "code",
      "execution_count": 27,
      "metadata": {
        "id": "z-p0Hx1bUlsk"
      },
      "outputs": [],
      "source": [
        "HIDDEN_SIZE=64\n",
        "SEQUENCE_LENGTH = 100\n",
        "MODEL_LENGTH = 10\n",
        "NUM_TOPICS = 50\n",
        "NUM_WORDS = 5000\n",
        "\n",
        "lstm_model=LSTM(input_size=NUM_TOPICS, hidden_size=HIDDEN_SIZE, output_size=NUM_TOPICS, model_length=MODEL_LENGTH, batch_size=1)\n",
        "criterion = nn.CrossEntropyLoss()\n",
        "optimizer = optim.SGD(lstm_model.parameters(), lr=0.001)"
      ]
    },
    {
      "cell_type": "code",
      "execution_count": 28,
      "metadata": {
        "colab": {
          "base_uri": "https://localhost:8080/"
        },
        "id": "Fhbbkk7mUlsk",
        "outputId": "034a37e8-5690-457a-fafd-9a9418cbdfbe"
      },
      "outputs": [
        {
          "output_type": "stream",
          "name": "stdout",
          "text": [
            "0\n",
            "{'loss': 3.914231300354004}\n",
            "1\n",
            "{'loss': 3.9097096920013428}\n",
            "2\n",
            "{'loss': 3.9114458560943604}\n",
            "3\n",
            "{'loss': 3.914520263671875}\n",
            "4\n",
            "{'loss': 3.911060094833374}\n"
          ]
        }
      ],
      "source": [
        "z_star_train = torch.randint(1, NUM_TOPICS + 1, size=(X_train.shape[0], SEQUENCE_LENGTH))\n",
        "z_star_one_hot_train = to_categorical(z_star_train-1, num_classes=NUM_TOPICS)\n",
        "\n",
        "for i in range(z_star_train.shape[0]):\n",
        "    print(i)\n",
        "    dataset_i=Dataset(topics=z_star_one_hot_train[i], model_length=MODEL_LENGTH)\n",
        "    dataloader_i = DataLoader(dataset_i, batch_size=1)\n",
        "    lstm_model.train_model(dataloader_i, optimizer, criterion)"
      ]
    },
    {
      "cell_type": "markdown",
      "metadata": {
        "id": "kqrifMS5Ulsk"
      },
      "source": [
        "## SSM"
      ]
    },
    {
      "cell_type": "code",
      "execution_count": 29,
      "metadata": {
        "id": "DfZO1YK1Ulsk"
      },
      "outputs": [],
      "source": [
        "class SSMPytorch:\n",
        "    def __init__(self, num_words, num_topics, T):\n",
        "        self.num_words = num_words\n",
        "        self.num_topics = num_topics\n",
        "        self.T = T\n",
        "        self.phi = torch.randn(T, num_words, num_topics) * 0.01\n",
        "        self.phi = torch.exp(self.phi - torch.max(self.phi, dim=1, keepdim=True).values)\n",
        "        self.phi = self.phi / torch.sum(self.phi, dim=1, keepdim=True)\n",
        "\n",
        "    def compute_MLE_SSM(self, ech_x, ech_z):\n",
        "        def compute_MLE_SSM_time_t(t, ech_x, ech_z, num_words, num_topics):\n",
        "            ech_x_t = ech_x[:, t]\n",
        "            ech_z_t = ech_z[:, t]\n",
        "            n_samples = ech_x_t.size(0)\n",
        "            proba_matrix = torch.zeros((num_words, num_topics), dtype=torch.float)\n",
        "            for i in range(n_samples):\n",
        "                index_x = ech_x_t[i] - 1\n",
        "                index_z = ech_z_t[i] - 1\n",
        "                proba_matrix[index_x, index_z] += 1.0\n",
        "            row_sums = proba_matrix.sum(dim=0, keepdim=True)\n",
        "            proba_matrix_normalized = proba_matrix / (row_sums + 1e-6)\n",
        "            self.phi[t] = proba_matrix_normalized\n",
        "\n",
        "        for t in range(self.T):\n",
        "            compute_MLE_SSM_time_t(t, ech_x, ech_z, self.num_words, self.num_topics)\n",
        "\n",
        "    def predict_proba(self, t, z_t):\n",
        "        return self.phi[t - 1][:, z_t - 1]\n",
        "\n",
        "    def sample_xt(self, t, z_t):\n",
        "        proba = self.predict_proba(t, z_t)\n",
        "        sampled_xt = torch.multinomial(proba, 1).item()\n",
        "        return sampled_xt\n"
      ]
    },
    {
      "cell_type": "code",
      "execution_count": 30,
      "metadata": {
        "colab": {
          "base_uri": "https://localhost:8080/"
        },
        "id": "8m-4ye0YUlsk",
        "outputId": "c76dfba0-a9ab-407e-bbdb-913c2eebfd86"
      },
      "outputs": [
        {
          "output_type": "execute_result",
          "data": {
            "text/plain": [
              "tensor([1.0000, 1.0000, 1.0000, 1.0000, 1.0000, 1.0000, 1.0000, 1.0000, 1.0000,\n",
              "        1.0000, 1.0000, 1.0000, 1.0000, 1.0000, 1.0000, 1.0000, 1.0000, 1.0000,\n",
              "        1.0000, 1.0000, 1.0000, 1.0000, 1.0000, 1.0000, 1.0000, 1.0000, 1.0000,\n",
              "        1.0000, 1.0000, 1.0000, 1.0000, 1.0000, 1.0000, 1.0000, 1.0000, 1.0000,\n",
              "        1.0000, 1.0000, 1.0000, 1.0000, 1.0000, 1.0000, 1.0000, 1.0000, 1.0000,\n",
              "        1.0000, 1.0000, 1.0000, 1.0000, 1.0000])"
            ]
          },
          "metadata": {},
          "execution_count": 30
        }
      ],
      "source": [
        "ssm_model = SSMPytorch(num_words=NUM_WORDS, num_topics=NUM_TOPICS, T=SEQUENCE_LENGTH)\n",
        "ssm_model.phi[10].sum(dim = 0)"
      ]
    },
    {
      "cell_type": "code",
      "execution_count": 31,
      "metadata": {
        "colab": {
          "base_uri": "https://localhost:8080/"
        },
        "id": "J2fSVmsxUlsl",
        "outputId": "a4077825-09c1-4eb4-8ebf-6bc3ace0310f"
      },
      "outputs": [
        {
          "output_type": "execute_result",
          "data": {
            "text/plain": [
              "tensor([0.0000, 0.0000, 0.0000, 0.0000, 0.0000, 0.0000, 0.0000, 0.0000, 1.0000,\n",
              "        0.0000, 1.0000, 0.0000, 0.0000, 0.0000, 0.0000, 0.0000, 0.0000, 0.0000,\n",
              "        0.0000, 0.0000, 0.0000, 0.0000, 0.0000, 0.0000, 1.0000, 0.0000, 0.0000,\n",
              "        0.0000, 0.0000, 1.0000, 0.0000, 0.0000, 0.0000, 0.0000, 0.0000, 0.0000,\n",
              "        0.0000, 0.0000, 0.0000, 0.0000, 0.0000, 0.0000, 0.0000, 0.0000, 0.0000,\n",
              "        1.0000, 0.0000, 0.0000, 0.0000, 0.0000])"
            ]
          },
          "metadata": {},
          "execution_count": 31
        }
      ],
      "source": [
        "X_train_torch = torch.tensor(X_train, dtype = torch.int64)\n",
        "ssm_model.compute_MLE_SSM(X_train_torch, z_star_train)\n",
        "ssm_model.phi[10].sum(dim = 0)"
      ]
    },
    {
      "cell_type": "markdown",
      "metadata": {
        "id": "33fdzrVuUlsl"
      },
      "source": [
        "## Particle Gibbs"
      ]
    },
    {
      "cell_type": "code",
      "execution_count": 32,
      "metadata": {
        "id": "RYDvZJPNUlsl"
      },
      "outputs": [],
      "source": [
        "def compute_alpha_unnormalized(t, z_1_t_minus_1, num_topics, num_voc, lstm, ssm):\n",
        "    z_1_t_minus_1 = z_1_t_minus_1 - 1\n",
        "    z_one_hot = F.one_hot(z_1_t_minus_1, num_classes=num_topics).float()\n",
        "    softmax = lstm.predict_next_probability(z_one_hot).detach()\n",
        "    phi_t = ssm.phi[t - 1]\n",
        "    alpha = torch.tensor([torch.matmul(softmax, phi_t[j, :]) for j in range(num_voc)])\n",
        "    return alpha\n",
        "\n",
        "def compute_alpha_normalized(t, z_1_t_minus_1, num_topics, num_voc, lstm, ssm):\n",
        "    num = compute_alpha_unnormalized(t, z_1_t_minus_1, num_topics, num_voc, lstm, ssm)\n",
        "    denom = torch.sum(num) + 1e-6\n",
        "    return num / denom\n",
        "\n",
        "def compute_gamma_unnormalized(t, xt, z_1_t_minus_1, num_topics, lstm, ssm):\n",
        "    z_1_t_minus_1 = z_1_t_minus_1 - 1\n",
        "    z_one_hot = F.one_hot(z_1_t_minus_1, num_classes=num_topics).float()\n",
        "    softmax = lstm.predict_next_probability(z_one_hot).detach()\n",
        "    phi_t = ssm.phi[t - 1]\n",
        "    phi_xt = phi_t[xt - 1, :]\n",
        "    return torch.mul(softmax, phi_xt)\n",
        "\n",
        "def compute_gamma_normalized(t, xt, z_1_t_minus_1, num_topics, lstm, ssm):\n",
        "    num = compute_gamma_unnormalized(t, xt, z_1_t_minus_1, num_topics, lstm, ssm)\n",
        "    denom = torch.sum(num) + 1e-6\n",
        "    return num / denom"
      ]
    },
    {
      "cell_type": "code",
      "execution_count": 33,
      "metadata": {
        "id": "_IgZJHKTUlsl"
      },
      "outputs": [],
      "source": [
        "def particle_gibbs(x, previous_z_1_T_star, P, num_topics, num_words, T, lstm_model, ssm_model):\n",
        "    # Init\n",
        "    Z_matrix = torch.zeros((P, T + 1), dtype=torch.long)\n",
        "    alpha_matrix = torch.zeros((P, T + 1), dtype=torch.float)\n",
        "    ancestor_matrix = torch.ones((P, T + 1), dtype=torch.long)\n",
        "\n",
        "    # t=0\n",
        "    z_0 = torch.randint(1, num_topics + 1, (P,))\n",
        "    alpha_0 = torch.full((P,), 1 / P)\n",
        "    Z_matrix[:, 0] = z_0\n",
        "    alpha_matrix[:, 0] = alpha_0\n",
        "\n",
        "    for t in range(1, T + 1):\n",
        "        a_t_minus_1 = torch.tensor(1)\n",
        "        z_1_t = previous_z_1_T_star[:t]\n",
        "        ancestor_matrix[0, t - 1] = a_t_minus_1\n",
        "        Z_matrix[0, 1:t + 1] = z_1_t\n",
        "\n",
        "        for p in range(2, P + 1):\n",
        "            alpha_t_minus_1_p = alpha_matrix[:, t - 1]\n",
        "            try:\n",
        "                a_t_minus_1_p = torch.multinomial(alpha_t_minus_1_p, 1).item()+1\n",
        "            except:\n",
        "                a_t_minus_1_p = torch.multinomial(alpha_t_minus_1_p / alpha_t_minus_1_p.sum(), 1).item()+1\n",
        "\n",
        "            ancestor_matrix[p - 1, t - 1] = a_t_minus_1_p\n",
        "\n",
        "            if t == 1:\n",
        "                z_1_t_minus_1_a_t_minus_1_p = Z_matrix[int(a_t_minus_1_p) - 1, 0]\n",
        "                z_1_t_minus_1_a_t_minus_1_p = torch.tensor([z_1_t_minus_1_a_t_minus_1_p])\n",
        "                gamma_t_p = compute_gamma_normalized(t=t,\n",
        "                                                 xt=x[t - 1],\n",
        "                                                 z_1_t_minus_1=z_1_t_minus_1_a_t_minus_1_p,\n",
        "                                                 num_topics=num_topics,\n",
        "                                                 lstm=lstm_model,\n",
        "                                                 ssm=ssm_model)\n",
        "\n",
        "                try:\n",
        "                    z_t_p = torch.multinomial(gamma_t_p, 1).item()+1\n",
        "                except:\n",
        "                    z_t_p = torch.multinomial(gamma_t_p / gamma_t_p.sum(), 1).item()+1\n",
        "                z_1_t_p = z_t_p\n",
        "            else:\n",
        "                z_1_t_minus_1_a_t_minus_1_p = Z_matrix[int(a_t_minus_1_p) - 1, 1:t]\n",
        "                gamma_t_p = compute_gamma_normalized(t=t,\n",
        "                                                    xt=x[t - 1],\n",
        "                                                    z_1_t_minus_1=z_1_t_minus_1_a_t_minus_1_p,\n",
        "                                                    num_topics=num_topics,\n",
        "                                                    lstm=lstm_model,\n",
        "                                                    ssm=ssm_model)\n",
        "\n",
        "                try:\n",
        "                    z_t_p = torch.multinomial(gamma_t_p, 1).item()+1\n",
        "                except:\n",
        "                    z_t_p = torch.multinomial(gamma_t_p / gamma_t_p.sum(), 1).item()+1\n",
        "\n",
        "                z_1_t_p = torch.cat([z_1_t_minus_1_a_t_minus_1_p, torch.tensor([z_t_p])])\n",
        "\n",
        "            Z_matrix[p - 1, 1:t + 1] = z_1_t_p\n",
        "\n",
        "        for p in range(1, P + 1):\n",
        "            a_t_minus_1_p = ancestor_matrix[p - 1, t - 1]\n",
        "            if t == 1:\n",
        "                z_1_t_minus_1_a_t_minus_1_p = Z_matrix[int(a_t_minus_1_p) - 1, 0]\n",
        "                z_1_t_minus_1_a_t_minus_1_p = torch.tensor([z_1_t_minus_1_a_t_minus_1_p])\n",
        "            else:\n",
        "                z_1_t_minus_1_a_t_minus_1_p = Z_matrix[int(a_t_minus_1_p) - 1, 1:(t - 1) + 1]\n",
        "\n",
        "            alpha_t_p = compute_alpha_normalized(t=t,\n",
        "                                                 z_1_t_minus_1=z_1_t_minus_1_a_t_minus_1_p,\n",
        "                                                 num_topics=num_topics,\n",
        "                                                 num_voc=num_words,\n",
        "                                                 lstm=lstm_model,\n",
        "                                                 ssm=ssm_model)\n",
        "            alpha_t_p = alpha_t_p[x[t - 1] - 1]\n",
        "            alpha_matrix[p - 1, t] = alpha_t_p\n",
        "\n",
        "        alpha_matrix[:, t] = alpha_matrix[:, t] / (alpha_matrix[:, t].sum() + 1e-6)\n",
        "\n",
        "    alpha_T = alpha_matrix[:, -1]\n",
        "    alpha_T = alpha_T / (alpha_T.sum() + 1e-6)\n",
        "\n",
        "    try:\n",
        "        r = torch.multinomial(alpha_T, 1).item()+1\n",
        "    except:\n",
        "        r = torch.multinomial(alpha_T / alpha_T.sum(), 1).item()+1\n",
        "\n",
        "    a_T_r = ancestor_matrix[int(r) - 1, -1]\n",
        "    z_1_T = Z_matrix[int(a_T_r) - 1, 1:]\n",
        "\n",
        "    return z_1_T\n"
      ]
    },
    {
      "cell_type": "markdown",
      "metadata": {
        "id": "ZVJyJMZTUlsl"
      },
      "source": [
        "## Train"
      ]
    },
    {
      "cell_type": "code",
      "execution_count": 34,
      "metadata": {
        "id": "X0AKORMeUlsl"
      },
      "outputs": [],
      "source": [
        "HIDDEN_SIZE=64\n",
        "SEQUENCE_LENGTH = 100\n",
        "MODEL_LENGTH = 10\n",
        "NUM_TOPICS = 50\n",
        "NUM_WORDS = 5000\n",
        "N_ITER_PARTICULES = 1\n",
        "N_EPOCHS = 2\n",
        "NUM_PARTICULES = 10\n",
        "\n",
        "lstm_model=LSTM(input_size=NUM_TOPICS, hidden_size=HIDDEN_SIZE, output_size=NUM_TOPICS, model_length=MODEL_LENGTH, batch_size=1)\n",
        "criterion = nn.CrossEntropyLoss()\n",
        "optimizer = optim.SGD(lstm_model.parameters(), lr=0.001)\n",
        "ssm_model = SSMPytorch(num_words=NUM_WORDS, num_topics=NUM_TOPICS, T=SEQUENCE_LENGTH)"
      ]
    },
    {
      "cell_type": "code",
      "source": [
        "%%time\n",
        "from torch.multiprocessing import Pool\n",
        "\n",
        "def parallel_particle_gibbs(args):\n",
        "    return particle_gibbs(*args)\n",
        "\n",
        "args_list = [(torch.tensor(x, dtype=torch.int64), torch.randint(1, NUM_TOPICS + 1, (SEQUENCE_LENGTH,)),  NUM_PARTICULES, NUM_TOPICS, NUM_WORDS, SEQUENCE_LENGTH, lstm_model, ssm_model) for x in X_train]\n",
        "\n",
        "num_processes = 6\n",
        "with Pool(num_processes) as pool:\n",
        "    z_star_train = pool.map(parallel_particle_gibbs, args_list)"
      ],
      "metadata": {
        "colab": {
          "base_uri": "https://localhost:8080/"
        },
        "id": "08ig8h2-Uwbe",
        "outputId": "aafa6146-bb8d-4bb2-815e-b22b0342fad0"
      },
      "execution_count": 35,
      "outputs": [
        {
          "output_type": "stream",
          "name": "stdout",
          "text": [
            "CPU times: user 1.3 s, sys: 391 ms, total: 1.69 s\n",
            "Wall time: 5min 50s\n"
          ]
        }
      ]
    },
    {
      "cell_type": "code",
      "source": [
        "print(ok)"
      ],
      "metadata": {
        "colab": {
          "base_uri": "https://localhost:8080/",
          "height": 175
        },
        "id": "HQJ8pZw2brpg",
        "outputId": "579b122f-3fa1-4569-a964-b7506956310b"
      },
      "execution_count": 36,
      "outputs": [
        {
          "output_type": "error",
          "ename": "NameError",
          "evalue": "ignored",
          "traceback": [
            "\u001b[0;31m---------------------------------------------------------------------------\u001b[0m",
            "\u001b[0;31mNameError\u001b[0m                                 Traceback (most recent call last)",
            "\u001b[0;32m<ipython-input-36-061129d19e25>\u001b[0m in \u001b[0;36m<cell line: 1>\u001b[0;34m()\u001b[0m\n\u001b[0;32m----> 1\u001b[0;31m \u001b[0mprint\u001b[0m\u001b[0;34m(\u001b[0m\u001b[0mok\u001b[0m\u001b[0;34m)\u001b[0m\u001b[0;34m\u001b[0m\u001b[0;34m\u001b[0m\u001b[0m\n\u001b[0m",
            "\u001b[0;31mNameError\u001b[0m: name 'ok' is not defined"
          ]
        }
      ]
    },
    {
      "cell_type": "code",
      "source": [
        "z_star_train"
      ],
      "metadata": {
        "id": "uQXzYV62YEHA"
      },
      "execution_count": null,
      "outputs": []
    },
    {
      "cell_type": "code",
      "execution_count": null,
      "metadata": {
        "id": "gau9SHpgUlsm"
      },
      "outputs": [],
      "source": [
        "# %%time\n",
        "# from concurrent.futures import ThreadPoolExecutor\n",
        "# from functools import partial\n",
        "\n",
        "\n",
        "# partial_particle_gibbs = partial(particle_gibbs, P=NUM_PARTICULES, num_topics=NUM_TOPICS, num_words=NUM_WORDS, T=SEQUENCE_LENGTH, lstm_model=lstm_model, ssm_model=ssm_model, previous_z_1_T_star=torch.randint(1, NUM_TOPICS + 1, (SEQUENCE_LENGTH,)))\n",
        "# num_threads = 4\n",
        "\n",
        "# X_train_torch = torch.tensor(X_train, dtype=torch.int64)\n",
        "# X_train_list = X_train_torch.tolist()\n",
        "\n",
        "# with ThreadPoolExecutor(max_workers=num_threads) as executor:\n",
        "#     z_star_train = list(executor.map(partial_particle_gibbs, X_train_list))"
      ]
    },
    {
      "cell_type": "code",
      "execution_count": null,
      "metadata": {
        "id": "Fx-drqpiUlsm"
      },
      "outputs": [],
      "source": [
        "%%time\n",
        "for epoch in range(N_EPOCHS):\n",
        "    print(\"epoch: {}\".format(epoch+1))\n",
        "    z_star_train = []\n",
        "    print(\"Particle Gibbs\")\n",
        "    for i in range(X_train.shape[0]):\n",
        "        for iter in range(N_ITER_PARTICULES):\n",
        "            if iter == 0:\n",
        "                previous_z_1_T_star = torch.randint(1, NUM_TOPICS + 1, (SEQUENCE_LENGTH,))\n",
        "        x_tensor = torch.tensor(X_train[i], dtype=torch.int64)\n",
        "        z_star = particle_gibbs(NUM_PARTICULES, NUM_TOPICS, NUM_WORDS, SEQUENCE_LENGTH, lstm_model, ssm_model, x_tensor, previous_z_1_T_star)\n",
        "\n",
        "        if i == 0:\n",
        "            z_star_train = z_star\n",
        "        else:\n",
        "            z_star_train = torch.vstack((z_star_train, z_star))\n",
        "        previous_z_1_T_star = z_star\n",
        "    print(\"LSTM\")\n",
        "    for i in range(z_star_train.shape[0]):\n",
        "        dataset_i=Dataset(topics=z_star_one_hot_train[i], model_length=MODEL_LENGTH)\n",
        "        dataloader_i = DataLoader(dataset_i, batch_size=1)\n",
        "        lstm_model.train_model(dataloader_i, optimizer, criterion)\n",
        "    print(\"SSM\")\n",
        "    X_train_torch = torch.tensor(X_train, dtype=torch.int64)\n",
        "    ssm_model.compute_MLE_SSM(X_train_torch, z_star_train)"
      ]
    }
  ],
  "metadata": {
    "kernelspec": {
      "display_name": "Python 3",
      "name": "python3"
    },
    "language_info": {
      "codemirror_mode": {
        "name": "ipython",
        "version": 3
      },
      "file_extension": ".py",
      "mimetype": "text/x-python",
      "name": "python",
      "nbconvert_exporter": "python",
      "pygments_lexer": "ipython3",
      "version": "3.11.5"
    },
    "colab": {
      "provenance": [],
      "gpuType": "T4"
    },
    "accelerator": "GPU"
  },
  "nbformat": 4,
  "nbformat_minor": 0
}